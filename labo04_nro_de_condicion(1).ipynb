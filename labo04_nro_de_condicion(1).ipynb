{
 "cells": [
  {
   "cell_type": "markdown",
   "metadata": {
    "id": "Kq98NiDqWK-l"
   },
   "source": [
    "# **Laboratorio N°5: Número de Condición**\n"
   ]
  },
  {
   "cell_type": "code",
   "execution_count": 4,
   "metadata": {
    "id": "6atTtblVBdyJ"
   },
   "outputs": [],
   "source": [
    "import numpy as np\n",
    "import matplotlib.pyplot as plt"
   ]
  },
  {
   "cell_type": "markdown",
   "metadata": {
    "id": "FZ4ubXwRWkxS"
   },
   "source": [
    "## Ejercicio 1"
   ]
  },
  {
   "cell_type": "markdown",
   "metadata": {
    "id": "g2c9AtS1miT3"
   },
   "source": [
    "En este ejercicio vamos a probar o refutar algunas propiedades sobre el numero de condicion.\n",
    "En cada item tendremos un propiedad que puede ser verdadera o falsa.\n",
    " - En caso de ser verdadera: dar su demostracion.\n",
    " - En caso de ser falsa: utilizar numpy para dar un contraejemplo.\n",
    "\n",
    "Utilizar el comando `np.linalg.cond`."
   ]
  },
  {
   "cell_type": "markdown",
   "metadata": {
    "id": "A-372eKMoxfv"
   },
   "source": [
    "**(a)** $Cond_2(A)$ + $Cond_2(B)$ = $Cond_2(A+B)$"
   ]
  },
  {
   "cell_type": "code",
   "execution_count": 3,
   "metadata": {
    "id": "Yv2s8jG8mLCf"
   },
   "outputs": [
    {
     "name": "stdout",
     "output_type": "stream",
     "text": [
      "[[ 0.9288997   0.41043114 -1.16593803]\n",
      " [ 0.60493498  1.85913826 -0.45040402]\n",
      " [-1.17096502  0.55920111 -0.30283792]]\n",
      "[[-0.24788832  0.83566814 -0.10688157]\n",
      " [-0.99603734  0.92690453  0.30272816]\n",
      " [ 0.01673426  0.78996581 -0.13472178]]\n",
      "False\n"
     ]
    }
   ],
   "source": [
    "def generate_random_invertible_matrix(size):\n",
    "    while True:\n",
    "        matrix = np.random.randn(size, size)\n",
    "        \n",
    "\n",
    "        if np.linalg.det(matrix) != 0:\n",
    "            return matrix\n",
    "\n",
    "# Example usage\n",
    "size = 3 \n",
    "matrix = generate_random_invertible_matrix(size)\n",
    "\n",
    "print(matrix)\n",
    "\n",
    "matrix2 = generate_random_invertible_matrix(size)\n",
    "\n",
    "print(matrix2)\n",
    "\n",
    "\n",
    "print(np.linalg.cond(matrix,p=2)+np.linalg.cond(matrix2,p=2) == np.linalg.cond(matrix+matrix2,p=2))\n",
    "\n",
    "#ES FAKE!"
   ]
  },
  {
   "cell_type": "markdown",
   "metadata": {
    "id": "QwSNVeEdrQpB"
   },
   "source": [
    "**(b)** $Cond_1(A)$ - $Cond_1(B)$ = $Cond_2(A-B)$"
   ]
  },
  {
   "cell_type": "code",
   "execution_count": 4,
   "metadata": {
    "id": "47LDxl3IrXaP"
   },
   "outputs": [
    {
     "name": "stdout",
     "output_type": "stream",
     "text": [
      "[[-2.08273259  0.6394811  -1.25779765]\n",
      " [-0.8041141   1.4220529   2.37890447]\n",
      " [ 0.13117164  1.55532702  1.01512249]]\n",
      "[[-0.17526857 -2.08665646 -0.2555939 ]\n",
      " [ 1.19339639 -0.22798255  0.71769111]\n",
      " [-0.59974408  0.09061807  1.64452691]]\n",
      "False\n"
     ]
    }
   ],
   "source": [
    "size = 3  \n",
    "matrix = generate_random_invertible_matrix(size)\n",
    "\n",
    "print(matrix)\n",
    "\n",
    "matrix2 = generate_random_invertible_matrix(size)\n",
    "\n",
    "print(matrix2)\n",
    "\n",
    "\n",
    "print(np.linalg.cond(matrix,p=1)+np.linalg.cond(matrix2,p=1) == np.linalg.cond(matrix+matrix2,p=1))\n",
    "\n",
    "#ES FAKE!"
   ]
  },
  {
   "cell_type": "markdown",
   "metadata": {
    "id": "0t1kpuIerYgi"
   },
   "source": [
    "**(c)** $Cond_2(A)$ * $Cond_2(B)$ = $Cond_2(A.B)$"
   ]
  },
  {
   "cell_type": "code",
   "execution_count": 5,
   "metadata": {
    "id": "4HB6oTEcrhdf"
   },
   "outputs": [
    {
     "name": "stdout",
     "output_type": "stream",
     "text": [
      "[[-0.66382193  1.06029742 -0.10436831]\n",
      " [-0.88866837 -1.96513136  0.16005124]\n",
      " [ 0.88613277 -0.66348224 -0.4048176 ]]\n",
      "[[ 0.62554423 -1.59145773  0.5541836 ]\n",
      " [-0.56277321  0.31970265  0.24038694]\n",
      " [-1.55464044 -0.1493204  -0.28853463]]\n",
      "False\n"
     ]
    }
   ],
   "source": [
    "size = 3  \n",
    "matrix = generate_random_invertible_matrix(size)\n",
    "\n",
    "print(matrix)\n",
    "\n",
    "matrix2 = generate_random_invertible_matrix(size)\n",
    "\n",
    "print(matrix2)\n",
    "\n",
    "\n",
    "print(np.linalg.cond(matrix,p=1)*np.linalg.cond(matrix2,p=1) == np.linalg.cond(matrix@matrix2,p=1))\n",
    "\n",
    "#ES FAKE!"
   ]
  },
  {
   "cell_type": "markdown",
   "metadata": {
    "id": "IUuL-FA3WiT9"
   },
   "source": [
    "## Ejercicio 2"
   ]
  },
  {
   "cell_type": "markdown",
   "metadata": {
    "id": "8d_oakt6WyjI"
   },
   "source": [
    "El objetivo de este ejercicio es estudiar el número de condición de\n",
    "algunas matrices a medida que su tamaño aumenta.\n"
   ]
  },
  {
   "cell_type": "markdown",
   "metadata": {
    "id": "mtcF4XEcWw2X"
   },
   "source": [
    "\n",
    "**(a)** Programar funciones que, dado $n \\in \\mathbb{N}$, devuelvan las siguientes matrices de $\\mathbb{R}^{n\\times n}$. La función que define $B_n$ ya viene dada."
   ]
  },
  {
   "cell_type": "markdown",
   "metadata": {
    "id": "b_WTw5VmMcXY"
   },
   "source": [
    "\n",
    "\\begin{equation*}\n",
    "A_n=\n",
    "\\begin{pmatrix}\n",
    "\\frac{1}{n} & 0 & 0 & \\cdots  & n^2\\\\\n",
    "0 & \\frac{1}{n} & 0 & \\cdots & 0 \\\\\n",
    "0 & 0 & \\frac{1}{n} & \\cdots & 0\\\\\n",
    "\\vdots & \\vdots & \\vdots  & \\ddots & \\vdots\\\\\n",
    "1 & 0 & 0 & \\cdots &  \\frac{1}{n}\\\\\n",
    "\\end{pmatrix}\n",
    "\\qquad\n",
    "B_n=\n",
    "\\begin{pmatrix}\n",
    "4 & 1 & 0 & \\cdots & 0 & 0\\\\\n",
    "1 & 4 & 1 & \\cdots & 0 & 0 \\\\\n",
    "0 & 1 & 4 & \\ddots &  & \\vdots\\\\\n",
    "\\vdots & \\vdots & \\ddots & \\ddots & \\ddots & \\vdots \\\\\n",
    "0 & 0 &  & \\ddots & 4 & 1\\\\\n",
    "0 & 0 & \\cdots & \\cdots & 1 & 4 \\\\\n",
    "\\end{pmatrix}\n",
    "\\qquad\n",
    "H_n=\n",
    "\\begin{pmatrix}\n",
    "1 & \\frac{1}{2} & \\frac{1}{3} & \\cdots  & \\frac{1}{n}\\\\\n",
    "\\frac{1}{2} & \\frac{1}{3} & \\frac{1}{4} & \\cdots & \\frac{1}{n+1} \\\\\n",
    "\\frac{1}{3} & \\frac{1}{4} & \\frac{1}{5} & \\cdots & \\frac{1}{n+2}\\\\\n",
    "\\vdots & \\vdots & \\vdots  & \\ddots & \\vdots\\\\\n",
    "\\frac{1}{n} & \\frac{1}{n+1} & \\frac{1}{n+2} & \\cdots &  \\frac{1}{2n-1}\\\\\n",
    "\\end{pmatrix}\n",
    "\\end{equation*}\n",
    "\n"
   ]
  },
  {
   "cell_type": "markdown",
   "metadata": {
    "id": "xtdPNSyPW1VA"
   },
   "source": [
    "**Sugerencia:** Utilizar la función `np.diag` que recibe un array de números y genera una matriz diagonal con elementos dados por el array.\n",
    "\n",
    "\n"
   ]
  },
  {
   "cell_type": "code",
   "execution_count": 5,
   "metadata": {
    "id": "k6zUVVx1TFIK"
   },
   "outputs": [
    {
     "name": "stdout",
     "output_type": "stream",
     "text": [
      "[[0. 0. 0. 0. 0.]\n",
      " [0. 0. 0. 0. 0.]\n",
      " [0. 0. 0. 0. 0.]\n",
      " [0. 0. 0. 0. 0.]\n",
      " [1. 0. 0. 0. 0.]]\n",
      "1.0\n",
      "0.3333333333333333\n",
      "0.2\n",
      "0.14285714285714285\n",
      "[[1.         0.5        0.33333333 0.25       0.2        0.16666667\n",
      "  0.14285714 0.125      0.11111111 0.1       ]\n",
      " [0.5        0.33333333 0.25       0.2        0.16666667 0.14285714\n",
      "  0.125      0.11111111 0.1        0.09090909]\n",
      " [0.33333333 0.25       0.2        0.16666667 0.14285714 0.125\n",
      "  0.11111111 0.1        0.09090909 0.08333333]\n",
      " [0.25       0.2        0.16666667 0.14285714 0.125      0.11111111\n",
      "  0.1        0.09090909 0.08333333 0.07692308]\n",
      " [0.2        0.16666667 0.14285714 0.125      0.11111111 0.1\n",
      "  0.09090909 0.08333333 0.07692308 0.07142857]\n",
      " [0.16666667 0.14285714 0.125      0.11111111 0.1        0.09090909\n",
      "  0.08333333 0.07692308 0.07142857 0.06666667]\n",
      " [0.14285714 0.125      0.11111111 0.1        0.09090909 0.08333333\n",
      "  0.07692308 0.07142857 0.06666667 0.0625    ]\n",
      " [0.125      0.11111111 0.1        0.09090909 0.08333333 0.07692308\n",
      "  0.07142857 0.06666667 0.0625     0.05882353]\n",
      " [0.11111111 0.1        0.09090909 0.08333333 0.07692308 0.07142857\n",
      "  0.06666667 0.0625     0.05882353 0.05555556]\n",
      " [0.1        0.09090909 0.08333333 0.07692308 0.07142857 0.06666667\n",
      "  0.0625     0.05882353 0.05555556 0.05263158]]\n"
     ]
    }
   ],
   "source": [
    "\n",
    "\n",
    "def matriz_B(n):\n",
    "  B = np.eye(n, k=-1) + 4*np.eye(n, k=0) + np.eye(n, k=1)\n",
    "  return B\n",
    "\n",
    "mattrizprueba = np.eye(5,k=-5+1)\n",
    "print(mattrizprueba)\n",
    "\n",
    "def matriz_A(n):\n",
    "    \n",
    "    A= np.eye(n,k=0)/n + np.eye(n,k=n-1)*n*n + np.eye(n,k=-n+1)\n",
    "\n",
    "def secuencia(n):\n",
    "    for i in range(1,n):\n",
    "        print((1/(2*i-1)))\n",
    "\n",
    "secuencia(5)\n",
    "\n",
    "#H = 1/(i+j-1)\n",
    "\n",
    "def matriz_H(n):\n",
    "    H = np.zeros((n,n))\n",
    "    for i in range(n):\n",
    "        for j in range(n):\n",
    "            H[i,j] = 1/(i+1+j)\n",
    "    return H\n",
    "\n",
    "H=matriz_H(10)\n",
    "\n",
    "print(H)\n",
    "\n"
   ]
  },
  {
   "cell_type": "markdown",
   "metadata": {
    "id": "7eEfvH42XDN6"
   },
   "source": [
    "**(b)** Graficar para 100 vectores **unitarios** (en norma 2), $v\\in\\mathbb{R^2}$, $\\; A_2v,\\ B_2v,\\ H_2v$"
   ]
  },
  {
   "cell_type": "code",
   "execution_count": 13,
   "metadata": {
    "id": "a9PLSevGBdyP"
   },
   "outputs": [
    {
     "name": "stdout",
     "output_type": "stream",
     "text": [
      "-0.49498812914406864\n"
     ]
    },
    {
     "data": {
      "text/plain": [
       "<matplotlib.legend.Legend at 0x22e395da570>"
      ]
     },
     "execution_count": 13,
     "metadata": {},
     "output_type": "execute_result"
    },
    {
     "data": {
      "image/png": "[encoded data removed]",
      "text/plain": [
       "<Figure size 640x480 with 1 Axes>"
      ]
     },
     "metadata": {},
     "output_type": "display_data"
    }
   ],
   "source": [
    "#||v||2 = raiz(x^2+y^2)\n",
    "\n",
    "\n",
    "B = matriz_B(2)\n",
    "V = np.random.rand(2, 100) - 0.5\n",
    "print(V[0,0])\n",
    "\n",
    "for i in range(V.shape[1]):\n",
    "    x = V[0,i]\n",
    "    y= V[1,i]\n",
    "\n",
    "    norma = np.sqrt(x**2 + y**2)\n",
    "\n",
    "    V[0,i] = V[0,i] / norma\n",
    "    V[1,i] = V[1,i] / norma\n",
    "\n",
    "\n",
    "BV = B @ V\n",
    "\n",
    "plt.scatter(V[0], V[1], label = \"v\")\n",
    "plt.scatter(BV[0], BV[1], label = \"Bv\")\n",
    "plt.legend()\n"
   ]
  },
  {
   "cell_type": "markdown",
   "metadata": {
    "id": "Md7M-6jCBdyR"
   },
   "source": [
    "**(c)** Programar una función que, dada una matriz $M_n$ y un número natural $N$, guarde en un vector el valor de $Cond_2(M_n)$ para $1\\leq n \\leq N$."
   ]
  },
  {
   "cell_type": "code",
   "execution_count": null,
   "metadata": {
    "id": "34JfYEu3XdNy"
   },
   "outputs": [],
   "source": [
    "def vector_condicion(M, N):\n",
    "  #COMPLETAR\n",
    "  #...\n",
    "  return()"
   ]
  },
  {
   "cell_type": "markdown",
   "metadata": {
    "id": "9Ehr99OvXyy_"
   },
   "source": [
    "**(d)** Realizar gráficos del número de condición en norma 2 de las matrices definidas arriba para $N=10$.\n"
   ]
  },
  {
   "cell_type": "code",
   "execution_count": null,
   "metadata": {
    "id": "iHmlrA7sZf-n"
   },
   "outputs": [],
   "source": [
    "x= #COMPLETAR\n",
    "y= #COMPLETAR\n",
    "\n",
    "plt.plot(x, y)\n",
    "plt.show()"
   ]
  },
  {
   "cell_type": "markdown",
   "metadata": {
    "id": "eZaokS9SaAuA"
   },
   "source": [
    "**Sugerencia:** Si es necesario, utilizar una escala logarítmica en el eje $y$."
   ]
  },
  {
   "cell_type": "markdown",
   "metadata": {
    "id": "fpFKeooJafn3"
   },
   "source": [
    "**(e)** Repetir el ítem (d) para la matriz de Hilbert con $N=50$. ¿Cómo se explica el comportamiento observado?"
   ]
  },
  {
   "cell_type": "code",
   "execution_count": null,
   "metadata": {
    "id": "XARk-RBZcvqG"
   },
   "outputs": [],
   "source": [
    "#COMPLETAR"
   ]
  },
  {
   "cell_type": "markdown",
   "metadata": {
    "id": "bmaVGeUleqwI"
   },
   "source": [
    "## Ejercicio 3 (Ej 20 - Práctica 2)"
   ]
  },
  {
   "cell_type": "markdown",
   "metadata": {
    "id": "P4mH1SW6fmBb"
   },
   "source": [
    "Sea\n",
    "$A=\\left(\n",
    "\\begin{array}{ccc}\n",
    "3&0 & 0\\\\\n",
    "0& \\frac 54 & \\frac 34\\\\\n",
    "0& \\frac 34 & \\frac 54\\\\\n",
    "\\end{array}\n",
    "\\right).$\n",
    "\n"
   ]
  },
  {
   "cell_type": "code",
   "execution_count": null,
   "metadata": {
    "id": "-0sjdy5Ml4k_"
   },
   "outputs": [],
   "source": [
    "A = np.array([[3.0, 0, 0], [0, 5/4, 3/4], [0, 3/4, 5/4]])"
   ]
  },
  {
   "cell_type": "markdown",
   "metadata": {
    "id": "M-TFe8n7gMXJ"
   },
   "source": [
    "(a) Calcular $Cond_\\infty(A)$.\n"
   ]
  },
  {
   "cell_type": "code",
   "execution_count": null,
   "metadata": {
    "id": "k5jQ_Wz-l2I2"
   },
   "outputs": [],
   "source": [
    "#COMPLETAR"
   ]
  },
  {
   "cell_type": "markdown",
   "metadata": {
    "id": "jlUl52wZgPjD"
   },
   "source": [
    "(b) ¿Cuán chico debe ser el error relativo en los datos, $\\frac{\\|b-\\tilde{b}\\|}{\\|b\\|}$, si se desea que el error relativo en la aproximación de la solución, $\\frac{\\|x-\\tilde{x}\\|}{\\|x\\|}, $ sea menor que $10^{-4}$ (en $\\|\\cdot\\|_{\\infty}$)?\n",
    "\n"
   ]
  },
  {
   "cell_type": "code",
   "execution_count": null,
   "metadata": {
    "id": "mqL4_Sjgl2r3"
   },
   "outputs": [],
   "source": [
    "#COMPLETAR"
   ]
  },
  {
   "cell_type": "markdown",
   "metadata": {
    "id": "2wRP31mSgQ5c"
   },
   "source": [
    "(c) Realizar experimentos numéricos para verificar las estimaciones del ítem anterior. Considerar $b=(3,2,2)^t$, que se corresponde con la solución exacta $x=(1,1,1)^t$. Generar vectores de error aleatorios, normalizarlos para que su norma sea tan chica como la estimada en el item anterior y perturbar $b$ obteniendo $\\tilde{b}$. Finalmente, resolver $A\\tilde{x}=\\tilde{b}$ y verificar que $\\|\\tilde{x}-x\\|<10^{-4}$."
   ]
  },
  {
   "cell_type": "code",
   "execution_count": null,
   "metadata": {
    "id": "5nggErzxl3In"
   },
   "outputs": [],
   "source": [
    "#COMPLETAR"
   ]
  }
 ],
 "metadata": {
  "colab": {
   "provenance": []
  },
  "kernelspec": {
   "display_name": "Python 3 (ipykernel)",
   "language": "python",
   "name": "python3"
  },
  "language_info": {
   "codemirror_mode": {
    "name": "ipython",
    "version": 3
   },
   "file_extension": ".py",
   "mimetype": "text/x-python",
   "name": "python",
   "nbconvert_exporter": "python",
   "pygments_lexer": "ipython3",
   "version": "3.12.5"
  }
 },
 "nbformat": 4,
 "nbformat_minor": 4
}
