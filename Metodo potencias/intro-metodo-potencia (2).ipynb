{
 "cells": [
  {
   "cell_type": "markdown",
   "id": "89403ec7",
   "metadata": {},
   "source": [
    "# Capitulo 3 - Autovalores y autovectores"
   ]
  },
  {
   "cell_type": "code",
   "execution_count": null,
   "id": "4d71f497",
   "metadata": {},
   "outputs": [],
   "source": [
    "import numpy as np\n",
    "import scipy.linalg\n",
    "import matplotlib.pyplot as plt"
   ]
  },
  {
   "cell_type": "markdown",
   "id": "e1275f21",
   "metadata": {},
   "source": [
    "Calculamos los autovalores y autovectores de la matriz\n",
    "$$\n",
    "A = \\begin{pmatrix}\n",
    "2 & 3 \\\\\n",
    "2 & 1\n",
    "\\end{pmatrix}\n",
    "$$"
   ]
  },
  {
   "cell_type": "code",
   "execution_count": null,
   "id": "fd6b31fb",
   "metadata": {},
   "outputs": [],
   "source": [
    "A = np.array([[2,3],[2,1]])\n",
    "Id = np.eye(2)\n",
    "print(Id)"
   ]
  },
  {
   "cell_type": "code",
   "execution_count": null,
   "id": "3bff75cd",
   "metadata": {},
   "outputs": [],
   "source": [
    "# Espacio de autovectores del autovalor lambda = -1\n",
    "scipy.linalg.null_space(A+Id)"
   ]
  },
  {
   "cell_type": "code",
   "execution_count": null,
   "id": "6c05ca65",
   "metadata": {},
   "outputs": [],
   "source": [
    "# Espacio de autovectores del autovalor lambda = 4\n",
    "scipy.linalg.null_space(A-4*Id)"
   ]
  },
  {
   "cell_type": "code",
   "execution_count": null,
   "id": "a00b4a57",
   "metadata": {},
   "outputs": [],
   "source": [
    "# Autovalores y autovectores con el comando eig\n",
    "np.linalg.eig(A)"
   ]
  },
  {
   "cell_type": "code",
   "execution_count": null,
   "id": "46749eee",
   "metadata": {},
   "outputs": [],
   "source": [
    "# Podemos usar también eigvals para los autovalores\n",
    "np.linalg.eigvals(A)"
   ]
  },
  {
   "cell_type": "code",
   "execution_count": null,
   "id": "58645450",
   "metadata": {},
   "outputs": [],
   "source": [
    "# Matrices de cambios de base para llevar A a la forma diagonal\n",
    "C_BE = np.array([[1,3],[-1,2]])\n",
    "print(C_BE)"
   ]
  },
  {
   "cell_type": "code",
   "execution_count": null,
   "id": "71f978f1",
   "metadata": {},
   "outputs": [],
   "source": [
    "C_EB = np.linalg.inv(C_BE)\n",
    "B = C_EB @ A @ C_BE\n",
    "print(B)"
   ]
  },
  {
   "cell_type": "markdown",
   "id": "bf48d43c",
   "metadata": {},
   "source": [
    "## Método de la potencia\n",
    "\n",
    "Para \n",
    "$$\n",
    "A = \\begin{pmatrix}\n",
    "0.9 & 0.15 & 0.25 \\\\\n",
    "0.075 & 0.8 &  0.25 \\\\\n",
    "0.025 & 0.05 & 0.5\n",
    "\\end{pmatrix}\n",
    "$$\n",
    "y $v = (1, 2, 3)$, calcular $A^k v$ para distintos valores de $k$."
   ]
  },
  {
   "cell_type": "code",
   "execution_count": null,
   "id": "f7f3435d",
   "metadata": {},
   "outputs": [],
   "source": [
    "A = np.array([[0.9, 0.15, 0.25], [0.075, 0.8, 5.25], [0.025, 0.05, 0.5]])\n",
    "v = np.array([-1,20,15])"
   ]
  },
  {
   "cell_type": "code",
   "execution_count": null,
   "id": "3ab3b38f",
   "metadata": {},
   "outputs": [],
   "source": [
    "A @ v"
   ]
  },
  {
   "cell_type": "code",
   "execution_count": null,
   "id": "733ac8f1",
   "metadata": {},
   "outputs": [],
   "source": [
    "A @ A @ v"
   ]
  },
  {
   "cell_type": "code",
   "execution_count": null,
   "id": "1d51fc7d",
   "metadata": {},
   "outputs": [],
   "source": [
    "def estado(A, v, k):\n",
    "    for i in range(k):\n",
    "        v = A @ v\n",
    "        print(v)\n",
    "    return(v)"
   ]
  },
  {
   "cell_type": "code",
   "execution_count": null,
   "id": "9d0f0327",
   "metadata": {},
   "outputs": [],
   "source": [
    "estado(A, v, 50)"
   ]
  },
  {
   "cell_type": "code",
   "execution_count": null,
   "id": "981db466",
   "metadata": {},
   "outputs": [],
   "source": [
    "w = np.array([3.75, 1.875, 0.375])\n",
    "A @ w"
   ]
  },
  {
   "cell_type": "code",
   "execution_count": null,
   "id": "690acfb0",
   "metadata": {},
   "outputs": [],
   "source": [
    "ev = np.linalg.eigvals(A)\n",
    "print(ev)"
   ]
  },
  {
   "cell_type": "code",
   "execution_count": null,
   "id": "bc891ed2",
   "metadata": {},
   "outputs": [],
   "source": [
    "# Que pasa si cambiamos A por una matriz cualquiera?\n",
    "A = np.random.rand(3,3)\n",
    "print(estado(A, v, 50))"
   ]
  },
  {
   "cell_type": "code",
   "execution_count": null,
   "id": "3cbca901",
   "metadata": {},
   "outputs": [],
   "source": [
    "# Modificamos el programa anterior, normalizando en norma-2 en cada paso\n",
    "def estado_normalizado(A, v, k):\n",
    "    for i in range(k):\n",
    "        v = A @ v\n",
    "        v = v / np.linalg.norm(v,2)\n",
    "        print(v)\n",
    "    return(v)"
   ]
  },
  {
   "cell_type": "code",
   "execution_count": null,
   "id": "68dca4e0",
   "metadata": {},
   "outputs": [],
   "source": [
    "estado_normalizado(A, v, 50)"
   ]
  },
  {
   "cell_type": "markdown",
   "id": "b5ed2a81",
   "metadata": {},
   "source": [
    "Repetir para la matriz\n",
    "$$\n",
    "A = \\begin{pmatrix}\n",
    "3 & 1 & 2 \\\\\n",
    "0 & 1 & -2 \\\\\n",
    "1 & 2 & 4\n",
    "\\end{pmatrix}\n",
    "$$ y $v = (1,2,3)$."
   ]
  },
  {
   "cell_type": "code",
   "execution_count": null,
   "id": "8155edfe",
   "metadata": {},
   "outputs": [],
   "source": [
    "A = -np.array([[3,1,2], [0,1,-2], [1,2,4]])\n",
    "v = np.array([1,2,3])\n",
    "v50 = estado_normalizado(A, v, 50)\n",
    "print(v50)"
   ]
  },
  {
   "cell_type": "code",
   "execution_count": null,
   "id": "c34e5e88",
   "metadata": {},
   "outputs": [],
   "source": [
    "np.linalg.eigvals(A)"
   ]
  },
  {
   "cell_type": "code",
   "execution_count": null,
   "id": "2e595c94",
   "metadata": {},
   "outputs": [],
   "source": [
    "np.linalg.norm(A@v50)"
   ]
  },
  {
   "cell_type": "code",
   "execution_count": null,
   "id": "e0d71fdb",
   "metadata": {},
   "outputs": [],
   "source": [
    "# Autovalores de A\n",
    "np.linalg.eigvals(A)"
   ]
  },
  {
   "cell_type": "code",
   "execution_count": null,
   "id": "5015cc31",
   "metadata": {},
   "outputs": [],
   "source": [
    "# Si introducimos una pequeña modificacion en A, la matriz resulta diagonalizable\n",
    "A = np.array([[1.0001,1,0],[0,0.999,1],[0,0,1]])\n",
    "np.linalg.eig(A)"
   ]
  },
  {
   "cell_type": "code",
   "execution_count": null,
   "id": "c050b3c5",
   "metadata": {},
   "outputs": [],
   "source": [
    "# Matriz diaogonalizable\n",
    "A = np.array([[-1,3,-1],[-3,5,-1],[-3,3,1]])\n",
    "np.linalg.eig(A)"
   ]
  },
  {
   "cell_type": "code",
   "execution_count": null,
   "id": "5b20922d",
   "metadata": {},
   "outputs": [],
   "source": [
    "# Usamos null space para calcular los autovectores\n",
    "A = np.array([[0,1,0],[0,0,1],[0,0,0]])\n",
    "scipy.linalg.null_space(A)"
   ]
  },
  {
   "cell_type": "markdown",
   "id": "81a21603",
   "metadata": {},
   "source": [
    "# Norma-2 de matrices"
   ]
  },
  {
   "cell_type": "code",
   "execution_count": null,
   "id": "7b7ab313",
   "metadata": {},
   "outputs": [],
   "source": [
    "# Graficamos 300 puntos al azar en la circunferencia de radio 1\n",
    "plt.figure(figsize=(6,6))\n",
    "for i in range(300):\n",
    "    p = np.random.rand()*2*np.pi\n",
    "    plt.scatter(np.cos(p), np.sin(p))"
   ]
  },
  {
   "cell_type": "code",
   "execution_count": null,
   "id": "95c885bf",
   "metadata": {},
   "outputs": [],
   "source": [
    "# Norma-2 para matrices simétricas\n",
    "A = np.array([[1,4], [4,-3]])\n",
    "\n",
    "# Tomamos 300 puntos al azar en la circunferencia y graficamos las imágenes\n",
    "plt.figure(figsize=(6,6))\n",
    "plt.xlim((-6,6))\n",
    "plt.ylim((-6,6))\n",
    "for i in range(300):\n",
    "    p = np.random.rand()*2*np.pi\n",
    "    v = np.array([np.cos(p), np.sin(p)])\n",
    "    Av = A @ v\n",
    "    plt.scatter(Av[0], Av[1])\n",
    "    "
   ]
  },
  {
   "cell_type": "code",
   "execution_count": null,
   "id": "389cb7a6",
   "metadata": {},
   "outputs": [],
   "source": [
    "# Agregamos los autovectores de A\n",
    "\n",
    "# Norma-2 para matrices simétricas\n",
    "A = np.array([[1,4], [4,-3]])\n",
    "\n",
    "# Tomamos 300 puntos al azar en la circunferencia y graficamos las imágenes\n",
    "plt.figure(figsize=(6,6))\n",
    "plt.xlim((-6,6))\n",
    "plt.ylim((-6,6))\n",
    "for i in range(300):\n",
    "    p = np.random.rand()*2*np.pi\n",
    "    v = np.array([np.cos(p), np.sin(p)])\n",
    "    Av = A @ v\n",
    "    plt.scatter(Av[0], Av[1])\n",
    "\n",
    "# Graficamos los autovectores de A\n",
    "e = np.linalg.eig(A)\n",
    "evec1 = e[1][0:2,0]*10\n",
    "evec2 = e[1][0:2,1]*10\n",
    "\n",
    "plt.arrow(0,0,evec1[0], evec1[1])\n",
    "plt.arrow(0,0,evec2[0], evec2[1])"
   ]
  },
  {
   "cell_type": "code",
   "execution_count": null,
   "id": "522fba51",
   "metadata": {},
   "outputs": [],
   "source": [
    "# Norma-2 para matrices en general\n",
    "A = np.array([[1,3], [-1,5]])\n",
    "\n",
    "# Tomamos 300 puntos al azar en la circunferencia y graficamos las imágenes\n",
    "plt.figure(figsize=(6,6))\n",
    "plt.xlim((-6,6))\n",
    "plt.ylim((-6,6))\n",
    "for i in range(300):\n",
    "    p = np.random.rand()*2*np.pi\n",
    "    v = np.array([np.cos(p), np.sin(p)])\n",
    "    Av = A @ v\n",
    "    plt.scatter(Av[0], Av[1])\n",
    "    \n",
    "# Graficamos los autovectores de A\n",
    "e = np.linalg.eig(A)\n",
    "evec1 = e[1][0:2,0]*10\n",
    "evec2 = e[1][0:2,1]*10\n",
    "\n",
    "plt.arrow(0,0,evec1[0], evec1[1])\n",
    "plt.arrow(0,0,evec2[0], evec2[1])    "
   ]
  },
  {
   "cell_type": "code",
   "execution_count": null,
   "id": "d4ff8e33",
   "metadata": {},
   "outputs": [],
   "source": [
    "# Agregamos las imágenes de los autovectores de A.T @ A\n",
    "\n",
    "# Norma-2\n",
    "A = np.array([[1,3], [-1,5]])\n",
    "\n",
    "# Tomamos 300 puntos al azar en la circunferencia y graficamos las imágenes\n",
    "plt.figure(figsize=(6,6))\n",
    "plt.xlim((-6,6))\n",
    "plt.ylim((-6,6))\n",
    "for i in range(300):\n",
    "    p = np.random.rand()*2*np.pi\n",
    "    v = np.array([np.cos(p), np.sin(p)])\n",
    "    Av = A @ v\n",
    "    plt.scatter(Av[0], Av[1])\n",
    "\n",
    "# Graficamos las imágenes de los autovectores de A.T @ A\n",
    "e = np.linalg.eig(A.T@A)\n",
    "evec1 = A@e[1][0:2,0]*10\n",
    "evec2 = A@e[1][0:2,1]*10\n",
    "\n",
    "plt.arrow(0,0,evec1[0], evec1[1])\n",
    "plt.arrow(0,0,evec2[0], evec2[1])\n"
   ]
  }
 ],
 "metadata": {
  "kernelspec": {
   "display_name": "Python 3 (ipykernel)",
   "language": "python",
   "name": "python3"
  },
  "language_info": {
   "codemirror_mode": {
    "name": "ipython",
    "version": 3
   },
   "file_extension": ".py",
   "mimetype": "text/x-python",
   "name": "python",
   "nbconvert_exporter": "python",
   "pygments_lexer": "ipython3",
   "version": "3.9.18"
  }
 },
 "nbformat": 4,
 "nbformat_minor": 5
}
